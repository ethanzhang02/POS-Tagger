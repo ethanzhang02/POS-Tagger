{
  "nbformat": 4,
  "nbformat_minor": 0,
  "metadata": {
    "colab": {
      "name": "POS Tagging.ipynb",
      "provenance": []
    },
    "kernelspec": {
      "name": "python3",
      "display_name": "Python 3"
    },
    "language_info": {
      "name": "python"
    }
  },
  "cells": [
    {
      "cell_type": "code",
      "metadata": {
        "id": "8pTZA4ojqoTF"
      },
      "source": [
        "import numpy as np\n",
        "\n",
        "def read_sentence(f):\n",
        "  sentence = []\n",
        "  while True:\n",
        "    line = f.readline()\n",
        "    if not line or line == '\\n':\n",
        "      return sentence\n",
        "    line = line.strip()\n",
        "    word, tag = line.split(\"\\t\", 1)\n",
        "    sentence.append((word, tag))\n",
        "\n",
        "def read_corpus(file):\n",
        "  f = open(file, 'r', encoding='utf-8')\n",
        "  sentences = []\n",
        "  while True:\n",
        "    sentence = read_sentence(f)\n",
        "    if sentence == []:\n",
        "      return sentences\n",
        "    sentences.append(sentence)"
      ],
      "execution_count": null,
      "outputs": []
    },
    {
      "cell_type": "code",
      "metadata": {
        "id": "LYPtdm4Mq1-s"
      },
      "source": [
        "training = read_corpus('train.upos.tsv')\n",
        "TAGS = ['ADJ', 'ADP', 'ADV', 'AUX', 'CCONJ', 'DET', 'INTJ', 'NOUN', 'NUM', \n",
        "        'PART', 'PRON', 'PROPN', 'PUNCT', 'SCONJ', 'SYM', 'VERB', 'X']\n",
        "NUM_TAGS = len(TAGS)\n",
        "\n",
        "alpha = 0.1\n",
        "tag_counts = np.zeros(NUM_TAGS)\n",
        "transition_counts = np.zeros((NUM_TAGS,NUM_TAGS))\n",
        "obs_counts = {}\n",
        "\n",
        "for sent in training:\n",
        "  for i in range(len(sent)):\n",
        "    word = sent[i][0]\n",
        "    pos = TAGS.index(sent[i][1])\n",
        "    tag_counts[pos] += 1\n",
        "    if i < len(sent)-1:\n",
        "      transition_counts[TAGS.index(sent[i+1][1]), pos] += 1\n",
        "    if word not in obs_counts:\n",
        "      obs_counts[word] = np.zeros(NUM_TAGS)\n",
        "    (obs_counts[word])[pos] += 1\n",
        "\n",
        "X0 = tag_counts / np.sum(tag_counts)\n",
        "TPROBS = transition_counts / np.sum(transition_counts, axis=0)\n",
        "OPROBS = {'#UNSEEN': np.divide(alpha*np.ones(NUM_TAGS), tag_counts+alpha)}\n",
        "for word, counts in obs_counts.items():\n",
        "  OPROBS[word] = np.divide(counts, tag_counts+alpha)"
      ],
      "execution_count": null,
      "outputs": []
    },
    {
      "cell_type": "code",
      "metadata": {
        "id": "56Ngkzl8q3zw"
      },
      "source": [
        "def unigram(obs):\n",
        "  # Returns the tag of the word obs, as predicted by a unigram model\n",
        "  # \n",
        "  # loop through X0 to get prob of each tag\n",
        "  # go to OPROBS[obs] and then loop through to see Pr(word|tag)\n",
        "  finalprob = np.empty(len(X0))\n",
        "  for x in range(len(X0)):\n",
        "    if obs in OPROBS.keys():\n",
        "        finalprob[x]=X0[x]*OPROBS[obs][x]\n",
        "    else:\n",
        "        finalprob[x]=X0[x]*OPROBS['#UNSEEN'][x]\n",
        "  index = np.argmax(finalprob)\n",
        "  return TAGS[index]"
      ],
      "execution_count": null,
      "outputs": []
    },
    {
      "cell_type": "code",
      "metadata": {
        "id": "PAhLY85lq5TJ"
      },
      "source": [
        "def evaluate(sentences, method):\n",
        "  correct = 0\n",
        "  correct_unseen = 0\n",
        "  num_words = 0\n",
        "  num_unseen_words = 0\n",
        "\n",
        "  for sentence in sentences:\n",
        "    words = [sent[0] for sent in sentence]\n",
        "    pos = [sent[1] for sent in sentence]\n",
        "    unseen = [word not in OPROBS for word in words]\n",
        "    if method == 'unigram':\n",
        "      predict = [unigram(w) for w in words]\n",
        "    elif method == 'viterbi':\n",
        "      predict = viterbi(words)\n",
        "    else:\n",
        "      print(\"invalid method!\")\n",
        "      return\n",
        "\n",
        "    if len(predict) != len(pos):\n",
        "      print(\"incorrect number of predictions\")\n",
        "      return\n",
        "    correct += sum(1 for i,j in zip(pos, predict) if i==j)\n",
        "    correct_unseen += sum(1 for i,j,k in zip(pos, predict, unseen) if i==j and k)\n",
        "    num_words += len(words)\n",
        "    num_unseen_words += sum(unseen)\n",
        "  \n",
        "  print(\"Accuracy rate on all words: \", correct/num_words)\n",
        "  if num_unseen_words > 0:\n",
        "    print(\"Accuracy rate on unseen words: \", correct_unseen/num_unseen_words)\n",
        "\n",
        "print(\"Training data evaluation\")\n",
        "evaluate(training, 'unigram')\n",
        "test = read_corpus('test.upos.tsv')\n",
        "print(\"\")\n",
        "print(\"Test data evaluation\")\n",
        "evaluate(test, 'unigram')"
      ],
      "execution_count": null,
      "outputs": []
    },
    {
      "cell_type": "code",
      "metadata": {
        "id": "SV57mWwlq8Ob"
      },
      "source": [
        "def elapse_time(m):\n",
        "  \"\"\"\n",
        "  Given a \"message\" distribution over tags, return an updated distribution\n",
        "  after a single timestep using Viterbi update, along with a list of the \n",
        "  indices of the most likely prior tag for each current tag\n",
        "  \"\"\"\n",
        "  mprime = np.zeros(NUM_TAGS)\n",
        "  prior_tags = np.zeros(NUM_TAGS, dtype=np.int8)\n",
        "  #YOUR CODE HERE\n",
        "  numcols = np.shape(TPROBS)[1]\n",
        "  numrows = np.shape(TPROBS)[0]\n",
        "  for i in range(numrows):\n",
        "    probs = np.empty(numcols)\n",
        "    for j in range(numcols):\n",
        "      probs[j] = TPROBS[i,j]*m[j]\n",
        "    mprime[i] = np.amax(probs)\n",
        "    index = np.argmax(probs)\n",
        "    prior_tags[i] = index\n",
        "  return mprime, prior_tags\n",
        "#testing m0 = X0\n",
        "m1prime, tags = elapse_time(X0)\n",
        "print(m1prime)"
      ],
      "execution_count": null,
      "outputs": []
    },
    {
      "cell_type": "code",
      "metadata": {
        "id": "nvrGhGNjq_OO"
      },
      "source": [
        "def observe(mprime, obs):\n",
        "  \"\"\"\n",
        "  Given a \"message\" distribution over tags, return an updated distribution\n",
        "  by weighting mprime by the emission probabilities corresponding to obs\n",
        "  \"\"\"\n",
        "  m = np.zeros(NUM_TAGS)\n",
        "  # YOUR CODE HERE\n",
        "  if obs in OPROBS.keys():\n",
        "    obsmatrix = np.zeros((len(OPROBS[obs]), len(OPROBS[obs])))\n",
        "    for i in range(len(OPROBS[obs])):\n",
        "      obsmatrix[i,i] = OPROBS[obs][i]\n",
        "  else:\n",
        "    obsmatrix = np.zeros((len(OPROBS[\"#UNSEEN\"]), len(OPROBS[\"#UNSEEN\"])))\n",
        "    for i in range(len(OPROBS[\"#UNSEEN\"])):\n",
        "      obsmatrix[i,i] = OPROBS[\"#UNSEEN\"][i]\n",
        "  m = np.matmul(obsmatrix, mprime)\n",
        "  return m\n",
        "#test with #UNSEEN word\n",
        "print(observe(m1prime, \"asd\"))\n",
        "  "
      ],
      "execution_count": null,
      "outputs": []
    },
    {
      "cell_type": "code",
      "metadata": {
        "id": "fBq55bQPrAuk"
      },
      "source": [
        "def viterbi(observations):\n",
        "  \"\"\"\n",
        "  Given a list of word observations, return a list of predicted tags\n",
        "  \"\"\"\n",
        "  m = X0\n",
        "  pointers = []\n",
        "  # YOUR CODE HERE\n",
        "  # \"Forward\" phase of the Viterbi algorithm\n",
        "  for x in range(len(observations)):\n",
        "    mprime, predictedtags = elapse_time(m)\n",
        "    newm = observe(mprime, observations[x])\n",
        "    pointers.append(predictedtags)\n",
        "    m = newm\n",
        "  # \"Backward\" phase of the Viterbi algorithm\n",
        "  indexsequence = []\n",
        "  max = float(\"-inf\")\n",
        "  index = 0\n",
        "  size = len(pointers)\n",
        "  for i in range(len(pointers[-1])):\n",
        "    if m[i]>max:\n",
        "      max = m[i]\n",
        "      index = i\n",
        "  indexsequence.insert(0,index)\n",
        "  while size>1:\n",
        "    size-=1\n",
        "    indexsequence.insert(0, pointers[size][index])\n",
        "    index = pointers[size][index] \n",
        "  tagsequence = []\n",
        "  for num in indexsequence:\n",
        "    tagsequence.append(TAGS[num])\n",
        "  return tagsequence\n",
        "print(viterbi([\"#UNSEEN\"]))\n"
      ],
      "execution_count": null,
      "outputs": []
    },
    {
      "cell_type": "code",
      "metadata": {
        "id": "-Tmd9iDnrCST"
      },
      "source": [
        "print(viterbi(['a', 'round', 'circle']))\n",
        "print(viterbi(['play', 'another', 'round']))\n",
        "print(viterbi(['walk', 'round', 'the', 'fence']))"
      ],
      "execution_count": null,
      "outputs": []
    },
    {
      "cell_type": "code",
      "metadata": {
        "id": "EMz5jK6lrDsr"
      },
      "source": [
        "print(\"Training data evaluation\")\n",
        "evaluate(training, 'viterbi')\n",
        "print(\"\")\n",
        "print(\"Test data evaluation\")\n",
        "evaluate(test, 'viterbi')"
      ],
      "execution_count": null,
      "outputs": []
    }
  ]
}